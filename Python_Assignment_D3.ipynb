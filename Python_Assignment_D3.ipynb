{
  "nbformat": 4,
  "nbformat_minor": 0,
  "metadata": {
    "colab": {
      "provenance": [],
      "authorship_tag": "ABX9TyOofU5PXauFSMNAYnD8J4z7",
      "include_colab_link": true
    },
    "kernelspec": {
      "name": "python3",
      "display_name": "Python 3"
    },
    "language_info": {
      "name": "python"
    }
  },
  "cells": [
    {
      "cell_type": "markdown",
      "metadata": {
        "id": "view-in-github",
        "colab_type": "text"
      },
      "source": [
        "<a href=\"https://colab.research.google.com/github/JaskeeratK/Python-Assignment-D3/blob/main/Python_Assignment_D3.ipynb\" target=\"_parent\"><img src=\"https://colab.research.google.com/assets/colab-badge.svg\" alt=\"Open In Colab\"/></a>"
      ]
    },
    {
      "cell_type": "code",
      "execution_count": 6,
      "metadata": {
        "colab": {
          "base_uri": "https://localhost:8080/"
        },
        "id": "ingmK-e-H0yz",
        "outputId": "475e8422-7780-4042-f1f5-9b1bf7418b1b"
      },
      "outputs": [
        {
          "output_type": "stream",
          "name": "stdout",
          "text": [
            "[11, 12, 13, 14, 50, 60]\n",
            "remove 11 and 13from L  [12, 14, 50, 60]\n",
            "L sorted in ascending order  [11, 12, 13, 14]\n",
            "L sorted in descending order  [14, 13, 12, 11]\n",
            "Found 13!\n",
            "Number of elements in L  4\n",
            "Number of elements in L  4\n",
            "Sum of all the numbers in L is  50\n",
            "sum of all odd numbers  24\n",
            "sum of all even numbers  26\n",
            "sum of prime numbers  48\n",
            "Cleared L  []\n"
          ]
        }
      ],
      "source": [
        "# Q1. L is a list defined as L= [11, 12, 13, 14].\n",
        "\n",
        "L= [11, 12, 13, 14]\n",
        "# (i)WAP to add 50 and 60 to L.\n",
        "L.append(50)\n",
        "L.append(60)\n",
        "print(L)\n",
        "\n",
        "# (ii)WAP to remove 11 and 13from L.\n",
        "L.remove(11)\n",
        "L.remove(13)\n",
        "print(\"remove 11 and 13from L \",L)\n",
        "\n",
        "# (iii)WAP to sort L in ascending order.\n",
        "L= [11, 12, 13, 14]\n",
        "L.sort()\n",
        "print(\"L sorted in ascending order \",L)\n",
        "\n",
        "# (iv)WAP to sort L in descending order.\n",
        "L.sort(reverse=True)\n",
        "print(\"L sorted in descending order \",L)\n",
        "\n",
        "# (v)WAP to search for 13 in L.\n",
        "L= [11, 12, 13, 14]\n",
        "for i in L:\n",
        "  if i==13:\n",
        "    print(\"Found 13!\")\n",
        "\n",
        "# (vi) WAP to count the number of elements present in L.\n",
        "cnt=0\n",
        "for i in L:\n",
        "  cnt+=1\n",
        "print(\"Number of elements in L \",cnt)\n",
        "# or\n",
        "print(\"Number of elements in L \",len(L))\n",
        "\n",
        "# (vii) WAP to sum all the elements in L.\n",
        "add=0\n",
        "for i in L:\n",
        "  add+=i\n",
        "print(\"Sum of all the numbers in L is \",add)\n",
        "\n",
        "# (viii) WAP to sum all ODD numbers in L.\n",
        "odd_sum=0\n",
        "for i in L:\n",
        "  if i%2!=0:\n",
        "    odd_sum+=i\n",
        "print(\"sum of all odd numbers \",odd_sum)\n",
        "\n",
        "# (ix) WAP to sum all EVEN numbers in L.\n",
        "even_sum=0\n",
        "for i in L:\n",
        "  if i%2==0:\n",
        "    even_sum+=i\n",
        "print(\"sum of all even numbers \",even_sum)\n",
        "\n",
        "# (x) WAP to sum all PRIME numbers in L.\n",
        "prime_sum=0\n",
        "for n in L:\n",
        "  if n<2:\n",
        "    continue\n",
        "  is_prime=True\n",
        "  for i in range(2, int(n**0.5) + 1):\n",
        "    if n % i == 0:\n",
        "        is_prime = False\n",
        "        break\n",
        "    if is_prime:\n",
        "        prime_sum += n\n",
        "print(\"sum of prime numbers \", prime_sum)\n",
        "\n",
        "\n",
        "# (xi) WAP to clear all the elements in L.\n",
        "L.clear()\n",
        "print(\"Cleared L \",L)\n",
        "\n",
        "\n",
        "# (xii) WAP to delete L.\n",
        "del L"
      ]
    },
    {
      "cell_type": "code",
      "source": [
        "# Q2. D is a dictionary defined as D= {1:5.6, 2:7.8, 3:6.6, 4:8.7, 5:7.7}.\n",
        "\n",
        "D= {1:5.6, 2:7.8, 3:6.6, 4:8.7, 5:7.7}\n",
        "# (i) WAP to add new entry in D; key=8 and value is 8.8\n",
        "D[8]=8.8\n",
        "print(\"Added new entry in D \",D)\n",
        "\n",
        "# (ii) WAP to remove key=2.\n",
        "del D[2]\n",
        "print(\"D after deleting key 2 \",D)\n",
        "\n",
        "# (iii) WAP to check weather 6 key is present in D.\n",
        "try:\n",
        "  print(D[6])\n",
        "except:\n",
        "  print(\"Error no such key exists in D\")\n",
        "\n",
        "# (iv) WAP to count the number of elements present in D.\n",
        "cnt=0\n",
        "for i in D:\n",
        "  cnt+=1\n",
        "print(\"Number of elements in D \",cnt)\n",
        "\n",
        "# (v) WAP to add all the values present D.\n",
        "add_vals=0\n",
        "for i in D.values():\n",
        "  add_vals+=i\n",
        "print(\"Sum of all values in D \",add_vals)\n",
        "\n",
        "# (vi) WAP to update the value of 3 to 7.1.\n",
        "D[3]=7.1\n",
        "print(\"Updates dictionary \",D)\n",
        "\n",
        "# (vii) WAP to clear the dictionary.\n",
        "D.clear()\n",
        "print(\"Cleared D \",D)"
      ],
      "metadata": {
        "colab": {
          "base_uri": "https://localhost:8080/"
        },
        "id": "0-xSsaoBIKRe",
        "outputId": "9ecb8228-0f06-4a68-e5a1-eb286cb3811a"
      },
      "execution_count": 11,
      "outputs": [
        {
          "output_type": "stream",
          "name": "stdout",
          "text": [
            "Added new entry in D  {1: 5.6, 2: 7.8, 3: 6.6, 4: 8.7, 5: 7.7, 8: 8.8}\n",
            "D after deleting key 2  {1: 5.6, 3: 6.6, 4: 8.7, 5: 7.7, 8: 8.8}\n",
            "Error no such key exists in D\n",
            "Number of elements in D  5\n",
            "Sum of all values in D  37.4\n",
            "Updates dictionary  {1: 5.6, 3: 7.1, 4: 8.7, 5: 7.7, 8: 8.8}\n",
            "Cleared D  {}\n"
          ]
        }
      ]
    },
    {
      "cell_type": "code",
      "source": [
        "# Q3. S1 is a set defined as S1= [10, 20, 30, 40, 50, 60].\n",
        "#  S2 is a set defined as S2= [40, 50, 60, 70, 80, 90].\n",
        "\n",
        "S1= {10, 20, 30, 40, 50, 60}\n",
        "S2= {40, 50, 60, 70, 80, 90}\n",
        "# (i) WAP to add 55 and 66 in Set S1.\n",
        "S1.add(55)\n",
        "S1.add(66)\n",
        "print(\"S1 after adding 66 and 55 \",S1)\n",
        "\n",
        "# (ii) WAP to remove 10 and 30 from Set S1.\n",
        "S1.remove(10)\n",
        "S1.remove(30)\n",
        "print(\"S1 after removing 10 and 30 \",S1)\n",
        "\n",
        "# (iii) WAP to check whether 40 is present in S1.\n",
        "if 40 in S1:\n",
        "  print(\"40 is present in S1\")\n",
        "else:\n",
        "  print(\"40 is not present in S1\")\n",
        "\n",
        "# (iv) WAP to find the union between S1 and S2.\n",
        "print(\"Union between S1 and S2 \",S1|S2)\n",
        "\n",
        "# (v) WAP to find the intersection between S1 and S2.\n",
        "print(\"intersection between S1 and S2 \",S1&S2)\n",
        "\n",
        "# (vi) WAP to find the S1 - S2.\n",
        "print(\"S1 - S2 = \",S1-S2)"
      ],
      "metadata": {
        "colab": {
          "base_uri": "https://localhost:8080/"
        },
        "id": "yabpmvqRN-pi",
        "outputId": "e9edaa02-a08e-40e0-cb8d-63f3a72bf743"
      },
      "execution_count": 16,
      "outputs": [
        {
          "output_type": "stream",
          "name": "stdout",
          "text": [
            "S1 after adding 66 and 55  {50, 66, 20, 55, 40, 10, 60, 30}\n",
            "S1 after removing 10 and 30  {50, 66, 20, 55, 40, 60}\n",
            "40 is present in S1\n",
            "Union between S1 and S2  {66, 70, 40, 80, 50, 20, 55, 90, 60}\n",
            "intersection between S1 and S2  {40, 50, 60}\n",
            "S1 - S2 =  {66, 20, 55}\n"
          ]
        }
      ]
    },
    {
      "cell_type": "code",
      "source": [
        "# Q4. Write the following program.\n",
        "\n",
        "# (i) WAP to print 100 random strings whose length between 6 and 8.\n",
        "import random as r\n",
        "import string as s\n",
        "print(\" 100 random strings whose length between 6 and 8.\")\n",
        "for _ in range(100):\n",
        "  l=r.randint(6,8)\n",
        "  random_str = ''.join(r.choices(s.ascii_letters + s.digits, k=l))\n",
        "  print(random_str)\n",
        "\n",
        "# (ii) WAP to print all prime numbers between 600 and 800.\n",
        "print(\"\\n all prime numbers between 600 and 800\")\n",
        "for n in range(600,801):\n",
        "  is_prime=True\n",
        "  for i in range(2, int(n**0.5) + 1):\n",
        "    if n % i == 0:\n",
        "        is_prime = False\n",
        "        break\n",
        "  if is_prime:\n",
        "    print(n)\n",
        "\n",
        "# (iii) WAP to print all numbers between 100 and 1000 that are divisible by 7 and 9.\n",
        "print(\"\\n all numbers between 100 and 1000 that are divisible by 7 and 9\")\n",
        "for i in range(100,1000):\n",
        "  if i%7==0 and i%9==0:\n",
        "    print(i)\n"
      ],
      "metadata": {
        "colab": {
          "base_uri": "https://localhost:8080/"
        },
        "id": "kOQYwPbeP7S1",
        "outputId": "006c14e5-7898-4e3b-b185-40adddb5e178"
      },
      "execution_count": 22,
      "outputs": [
        {
          "output_type": "stream",
          "name": "stdout",
          "text": [
            " 100 random strings whose length between 6 and 8.\n",
            "3V6mTX\n",
            "w7M0yX7b\n",
            "Z8zkvu\n",
            "6Ffzyea3\n",
            "FMlgk7F\n",
            "Gv7CqN\n",
            "CjZ7Hsj\n",
            "XHt95Ie\n",
            "ool61t\n",
            "OaKNsVx\n",
            "oXEsOLPc\n",
            "zsmWhr\n",
            "4Cb3F1c\n",
            "xRp5mjUg\n",
            "DLQHWu\n",
            "nucjNG\n",
            "wgtZIT\n",
            "bvEdwb\n",
            "m9T5fsw\n",
            "xp2N8B\n",
            "neHwZKIV\n",
            "9LSiWs\n",
            "NqGwD6z\n",
            "amitvy\n",
            "Uh3Fwet\n",
            "AsxWpl\n",
            "2yvwdY1j\n",
            "p2iX9eC\n",
            "uu5whj2\n",
            "udt0I2sQ\n",
            "UiQIzdi\n",
            "aKlaeK\n",
            "QZeZ2J6\n",
            "qwrtDZ\n",
            "RVSmVlQ\n",
            "lliWvfiI\n",
            "LBAuFyR5\n",
            "gvgyfzHP\n",
            "3YEwEvh\n",
            "LDf0ySAn\n",
            "mBeHrxl\n",
            "YK3XtSk\n",
            "36SWLvH\n",
            "j4p9yMn\n",
            "fhjXet\n",
            "YoNEmeU5\n",
            "7ZddNK\n",
            "dDF9z8\n",
            "8H8Ji5r\n",
            "AXdU5Xd\n",
            "WvfGFt\n",
            "ruQtHFP\n",
            "4QadBiME\n",
            "2bMUwlsJ\n",
            "51sNZP\n",
            "vQlDGnx\n",
            "SdBqemn\n",
            "jlExxn\n",
            "mmd0MeA\n",
            "CXSYxbAe\n",
            "Nxgopy\n",
            "VojEgJJz\n",
            "NXSh0KT\n",
            "UcrtmgoU\n",
            "URdVF1P\n",
            "cwPabAP\n",
            "12mihDFb\n",
            "JOiWYqx\n",
            "jyGdGt6A\n",
            "K2NIsx6c\n",
            "9PR2KZS\n",
            "XMZRhDuz\n",
            "ZVQTuqW\n",
            "2uYo8niX\n",
            "kWymoFJ\n",
            "QWUJwoo\n",
            "QTb4HO\n",
            "KlYB48\n",
            "1eOf2ld\n",
            "Rcuf8qzP\n",
            "dVgBUSi\n",
            "vvoXtrk\n",
            "ZCs0V5\n",
            "qgCETi\n",
            "sd5HWNo\n",
            "jPd1oG\n",
            "JJQTh6\n",
            "qkUPsgyb\n",
            "QcyDIL\n",
            "NZLeEjT9\n",
            "PhOyqtZv\n",
            "UJqSWnCr\n",
            "Wkkblh\n",
            "0YWVR2u\n",
            "YRn9jqZ\n",
            "8xvKU0\n",
            "bljCJqG8\n",
            "wPpje2c\n",
            "I4EsWa\n",
            "OEEkGOi\n",
            "\n",
            " all prime numbers between 600 and 800\n",
            "601\n",
            "607\n",
            "613\n",
            "617\n",
            "619\n",
            "631\n",
            "641\n",
            "643\n",
            "647\n",
            "653\n",
            "659\n",
            "661\n",
            "673\n",
            "677\n",
            "683\n",
            "691\n",
            "701\n",
            "709\n",
            "719\n",
            "727\n",
            "733\n",
            "739\n",
            "743\n",
            "751\n",
            "757\n",
            "761\n",
            "769\n",
            "773\n",
            "787\n",
            "797\n",
            "\n",
            " all numbers between 100 and 1000 that are divisible by 7 and 9\n",
            "126\n",
            "189\n",
            "252\n",
            "315\n",
            "378\n",
            "441\n",
            "504\n",
            "567\n",
            "630\n",
            "693\n",
            "756\n",
            "819\n",
            "882\n",
            "945\n"
          ]
        }
      ]
    },
    {
      "cell_type": "code",
      "source": [
        "# Q5. WAP to create two lists of 10 random numbers between 10 and 30; Find\n",
        "l1=[r.randint(10,30) for _ in range(10)]\n",
        "l2=[r.randint(10,30) for _ in range(10)]\n",
        "print(\"List 1:\",l1,\" , List 2:\",l2)\n",
        "\n",
        "# (i) Common numbers in the two lists\n",
        "comm=[]\n",
        "for i in l1:\n",
        "  for j in l2:\n",
        "    if i==j:\n",
        "      comm.append(i)\n",
        "print(\"common numbers in two lists \",comm)\n",
        "\n",
        "# (ii) Unique numbers in both the list\n",
        "unique=list(set(l1) ^ set(l2))\n",
        "print(\"Unique numbers in both the list \",unique)\n",
        "\n",
        "# (iii) Minimum in both the list\n",
        "print(\"Minimum in List 1 \",min(l1),\"\\nMinimum in List 2\",min(l2))\n",
        "\n",
        "# (iv) Maximum in both the list\n",
        "print(\"Maximum in List 1 \",max(l1),\"\\nMaximum in List 2\",max(l2))\n",
        "\n",
        "# (v) Sum of both the lists\n",
        "print(\"Sum of both the lists \",sum(l1)+sum(l2))"
      ],
      "metadata": {
        "colab": {
          "base_uri": "https://localhost:8080/"
        },
        "id": "2Xp8lXNER8wm",
        "outputId": "b9628486-3314-4e8c-c6be-bbc0d609aa68"
      },
      "execution_count": 30,
      "outputs": [
        {
          "output_type": "stream",
          "name": "stdout",
          "text": [
            "List 1: [24, 21, 22, 12, 15, 11, 12, 29, 16, 25]  , List 2: [22, 24, 19, 28, 20, 28, 24, 23, 19, 17]\n",
            "common numbers in two lists  [24, 24, 22]\n",
            "Unique numbers in both the list  [11, 12, 15, 16, 17, 19, 20, 21, 23, 25, 28, 29]\n",
            "Minimum in List 1  11 \n",
            "Minimum in List 2 17\n",
            "Maximum in List 1  29 \n",
            "Maximum in List 2 28\n",
            "Sum of both the lists  411\n"
          ]
        }
      ]
    },
    {
      "cell_type": "code",
      "source": [
        "# Q6. WAP to create a list of 100 random numbers between 100 and 900. Count and print the:\n",
        "\n",
        "l=[r.randint(100,900) for _ in range(100)]\n",
        "# (i) All odd numbers\n",
        "odd_nos=[]\n",
        "for i in l:\n",
        "  if i%2!=0:\n",
        "    odd_nos.append(i)\n",
        "print(\"Odd numbers \",odd_nos,\"\\nCount:\",len(odd_nos))\n",
        "\n",
        "# (ii) All even numbers\n",
        "even_nos=[]\n",
        "for i in l:\n",
        "  if i%2==0:\n",
        "    even_nos.append(i)\n",
        "print(\"Even numbers \",even_nos,\"\\nCount:\",len(even_nos))\n",
        "\n",
        "# (iii) All prime numbers\n",
        "prime_nos=[]\n",
        "for n in l:\n",
        "  is_prime=True\n",
        "  for i in range(2, int(n**0.5) + 1):\n",
        "    if n % i == 0:\n",
        "        is_prime = False\n",
        "        break\n",
        "  if is_prime:\n",
        "    prime_nos.append(n)\n",
        "print(\"Prime numbers \",prime_nos,\"\\nCount:\",len(prime_nos))"
      ],
      "metadata": {
        "colab": {
          "base_uri": "https://localhost:8080/"
        },
        "id": "i4F6RWh3UBn6",
        "outputId": "ad465852-e6e2-48e6-8aad-5da00ecdc439"
      },
      "execution_count": 33,
      "outputs": [
        {
          "output_type": "stream",
          "name": "stdout",
          "text": [
            "Odd numbers  [769, 695, 349, 871, 831, 453, 107, 595, 329, 343, 251, 203, 737, 899, 457, 645, 275, 479, 313, 221, 297, 677, 443, 595, 567, 439, 851, 273, 121, 845, 841, 267, 693, 291, 857, 869, 809, 651, 435, 133, 403, 869, 459, 367, 501, 201, 513] \n",
            "Count: 47\n",
            "Even numbers  [784, 824, 640, 494, 662, 442, 518, 892, 870, 256, 502, 264, 318, 608, 320, 334, 696, 868, 186, 614, 440, 256, 702, 592, 526, 396, 130, 476, 490, 528, 254, 442, 754, 828, 898, 264, 538, 550, 830, 842, 278, 154, 136, 482, 840, 780, 320, 860, 358, 624, 754, 756, 102] \n",
            "Count: 53\n",
            "Prime numbers  [769, 349, 107, 251, 457, 479, 313, 677, 443, 439, 857, 809, 367] \n",
            "Count: 13\n"
          ]
        }
      ]
    },
    {
      "cell_type": "code",
      "source": [
        "# Q7. D is a dictionary defined as D={1:\"One\",2:\"Two\",3:\"Three\",4:\"Four\", 5:\"Five\"}.\n",
        "#  WAP to read all the keys and values from dictionary and write to the file in the given below format.\n",
        "# Key1, Value1\n",
        "# Key2, Value2\n",
        "# Key3, Value3\n",
        "D = {1: \"One\", 2: \"Two\", 3: \"Three\", 4: \"Four\", 5: \"Five\"}\n",
        "with open(\"dict.txt\", \"w\") as file:\n",
        "    for k,v in D.items():\n",
        "        file.write(f\"{k}, {v}\\n\")\n",
        "print(\"Dictionary data has been written to 'dict.txt'\")\n"
      ],
      "metadata": {
        "colab": {
          "base_uri": "https://localhost:8080/"
        },
        "id": "K_EFtHoZVZLu",
        "outputId": "9a23f09c-be5e-4159-d308-13c07405d286"
      },
      "execution_count": 34,
      "outputs": [
        {
          "output_type": "stream",
          "name": "stdout",
          "text": [
            "Dictionary data has been written to 'dict.txt'\n"
          ]
        }
      ]
    },
    {
      "cell_type": "code",
      "source": [
        "# Q8. L is a list defined as L={\"One\",\"Two\",\"Three\",\"Four\",\"Five\"}.\n",
        "#  WAP to count the length of reach element from a list and write to the file in the given below format:\n",
        "# One, 3\n",
        "# Two, 3\n",
        "# Four, 4\n",
        "L={\"One\",\"Two\",\"Three\",\"Four\",\"Five\"}\n",
        "with open('len.txt','w') as f:\n",
        "  for i in L:\n",
        "    f.write(f\"{i}, {len(i)}\\n\")\n",
        "print(\"Element lengths written to 'len.txt'\")"
      ],
      "metadata": {
        "colab": {
          "base_uri": "https://localhost:8080/"
        },
        "id": "5VRQ7YViVwvQ",
        "outputId": "6437cfd6-948d-4280-cf3b-9bdad03f55bf"
      },
      "execution_count": 37,
      "outputs": [
        {
          "output_type": "stream",
          "name": "stdout",
          "text": [
            "Element lengths written to 'len.txt'\n"
          ]
        }
      ]
    },
    {
      "cell_type": "code",
      "source": [
        "# Q9. Write to the file 100 random strings whose length between 10 and 15.\n",
        "with open('strings.txt','w') as f:\n",
        "  for _ in range(100):\n",
        "        l = r.randint(10, 15)\n",
        "        rand_str = ''.join(r.choices(s.ascii_letters + s.digits, k=l))\n",
        "        f.write(rand_str + '\\n')\n",
        "print(\"100 random strings written to 'strings.txt'\")\n"
      ],
      "metadata": {
        "colab": {
          "base_uri": "https://localhost:8080/"
        },
        "id": "X3Dt2YXAW8RO",
        "outputId": "81707467-3a4a-4d34-bd88-0c1f19726091"
      },
      "execution_count": 38,
      "outputs": [
        {
          "output_type": "stream",
          "name": "stdout",
          "text": [
            "100 random strings written to 'strings.txt'\n"
          ]
        }
      ]
    },
    {
      "cell_type": "code",
      "source": [
        "# Q10. Write to the file all prime numbers between 600 and 800.\n",
        "\n",
        "with open(\"prime\", \"w\") as file:\n",
        "    for num in range(600, 801):\n",
        "        is_prime = True\n",
        "        for i in range(2, int(num**0.5) + 1):\n",
        "            if num % i == 0:\n",
        "                is_prime = False\n",
        "                break\n",
        "        if is_prime:\n",
        "            file.write(str(num) + '\\n')\n",
        "print(\"Prime numbers between 600 and 800 written to 'prime.txt'\")\n"
      ],
      "metadata": {
        "colab": {
          "base_uri": "https://localhost:8080/"
        },
        "id": "PIhW-zeWXccX",
        "outputId": "bcab10f4-d20f-4dcf-8067-e27f4fc9f7d9"
      },
      "execution_count": 39,
      "outputs": [
        {
          "output_type": "stream",
          "name": "stdout",
          "text": [
            "Prime numbers between 600 and 800 written to 'prime.txt'\n"
          ]
        }
      ]
    },
    {
      "cell_type": "code",
      "source": [
        "# Q11. WAP to calculate the time taken by a program.\n",
        "\n",
        "import time\n",
        "start_time = time.time()\n",
        "for num in range(1, 10000):\n",
        "    is_prime = True\n",
        "    if num < 2:\n",
        "        is_prime = False\n",
        "    else:\n",
        "        for i in range(2, int(num**0.5) + 1):\n",
        "            if num % i == 0:\n",
        "                is_prime = False\n",
        "                break\n",
        "    if is_prime:\n",
        "        pass\n",
        "\n",
        "end_time = time.time()\n",
        "\n",
        "print(\"Time taken by the program:\", end_time - start_time, \"seconds\")\n"
      ],
      "metadata": {
        "colab": {
          "base_uri": "https://localhost:8080/"
        },
        "id": "PxcrKGH-X7TJ",
        "outputId": "4eff12e0-995f-475e-f355-7ee843099433"
      },
      "execution_count": 40,
      "outputs": [
        {
          "output_type": "stream",
          "name": "stdout",
          "text": [
            "Time taken by the program: 0.019328594207763672 seconds\n"
          ]
        }
      ]
    },
    {
      "cell_type": "code",
      "source": [
        "# Q12. WAP to sort following number of elements in a list, calculate time taken and plot the graph.\n",
        "# Number of elements in list  Time Taken\n",
        "# 5k                           T1\n",
        "# 10k                          T2\n",
        "# 15k                          T3\n",
        "# 20k                          T4\n",
        "# 25k                          T5\n",
        "import matplotlib.pyplot as plt\n",
        "sizes = [5000, 10000, 15000, 20000, 25000]\n",
        "times = []\n",
        "\n",
        "\n",
        "for s in sizes:\n",
        "    lst = [r.randint(1, 1000000) for _ in range(s)]\n",
        "    start = time.time()\n",
        "    lst.sort()\n",
        "    end = time.time()\n",
        "    time_taken = end - start\n",
        "    times.append(time_taken)\n",
        "    print(f\"Sorted {s} elements in {time_taken:.6f} seconds\")\n",
        "\n",
        "plt.plot(sizes, times, marker='o', linestyle='-', color='blue')\n",
        "plt.title(\"Time vs no of elements\")\n",
        "plt.xlabel(\"no of elements\")\n",
        "plt.ylabel(\"Time Taken\")\n",
        "plt.grid(True)\n",
        "plt.show()\n"
      ],
      "metadata": {
        "colab": {
          "base_uri": "https://localhost:8080/",
          "height": 564
        },
        "id": "WQ4BshA0Yid3",
        "outputId": "546c2684-cc94-4ab2-bc01-a8283ca67eba"
      },
      "execution_count": 43,
      "outputs": [
        {
          "output_type": "stream",
          "name": "stdout",
          "text": [
            "Sorted 5000 elements in 0.001176 seconds\n",
            "Sorted 10000 elements in 0.002489 seconds\n",
            "Sorted 15000 elements in 0.007706 seconds\n",
            "Sorted 20000 elements in 0.012375 seconds\n",
            "Sorted 25000 elements in 0.016741 seconds\n"
          ]
        },
        {
          "output_type": "display_data",
          "data": {
            "text/plain": [
              "<Figure size 640x480 with 1 Axes>"
            ],
            "image/png": "[encoded data removed]"
          },
          "metadata": {}
        }
      ]
    },
    {
      "cell_type": "code",
      "source": [
        "# Q13. WAP to create a dictionary of student marks in five subjects and you have to find the student\n",
        "#  having maximum and minimum average marks.\n",
        "students = {\n",
        "    \"S1\": [78, 85, 90, 88, 76],\n",
        "    \"S2\": [60, 65, 70, 68, 72],\n",
        "    \"S3\": [95, 92, 90, 94, 96],\n",
        "    \"S4\": [45, 50, 55, 52, 48],\n",
        "    \"S5\": [82, 84, 80, 79, 81]\n",
        "}\n",
        "avgs = {}\n",
        "for name, marks in students.items():\n",
        "    avg = sum(marks) / len(marks)\n",
        "    avgs[name] = avg\n",
        "max_student = max(avgs, key=avgs.get)\n",
        "min_student = min(avgs, key=avgs.get)\n",
        "print(\"Average marks of each student:\")\n",
        "for name, avg in avgs.items():\n",
        "    print(f\"{name}: {avg:.2f}\")\n",
        "print(f\"\\nStudent with maximum average marks: {max_student} ({avgs[max_student]:.2f})\")\n",
        "print(f\"Student with minimum average marks: {min_student} ({avgs[min_student]:.2f})\")\n"
      ],
      "metadata": {
        "colab": {
          "base_uri": "https://localhost:8080/"
        },
        "id": "5x5mdIqEaQeM",
        "outputId": "cfa420c6-4d62-44fb-fb4f-73e76530cd83"
      },
      "execution_count": 46,
      "outputs": [
        {
          "output_type": "stream",
          "name": "stdout",
          "text": [
            "Average marks of each student:\n",
            "S1: 83.40\n",
            "S2: 67.00\n",
            "S3: 93.40\n",
            "S4: 50.00\n",
            "S5: 81.20\n",
            "\n",
            "Student with maximum average marks: S3 (93.40)\n",
            "Student with minimum average marks: S4 (50.00)\n"
          ]
        }
      ]
    }
  ]
}